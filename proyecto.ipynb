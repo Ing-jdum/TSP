{
 "cells": [
  {
   "cell_type": "code",
   "execution_count": 1,
   "metadata": {},
   "outputs": [
    {
     "name": "stdout",
     "output_type": "stream",
     "text": [
      "(['Hub', 'Location4', 'Location1', 'Location3', 'Location2'], 0.0)\n"
     ]
    }
   ],
   "source": [
    "from create_graph import TSPGraphCreator\n",
    "import configparser\n",
    "from test_solution import get_graph_data\n",
    "from TSP import TSP\n",
    "from SimulatedAnnealing import SimulatedAnnealing\n",
    "from graph_from_csv import GraphCreator\n",
    "import pandas as pd\n",
    "import itertools\n",
    "from GenerateData import generate_data\n",
    "import time"
   ]
  },
  {
   "cell_type": "code",
   "execution_count": 2,
   "metadata": {},
   "outputs": [],
   "source": [
    "import warnings\n",
    "warnings.filterwarnings('ignore')"
   ]
  },
  {
   "cell_type": "code",
   "execution_count": 3,
   "metadata": {},
   "outputs": [],
   "source": [
    "\n",
    "config = configparser.ConfigParser()\n",
    "config.read('config.ini')\n",
    "db_host = config.get('Database', 'DB_HOST')\n",
    "db_user = config.get('Database', 'DB_USER')\n",
    "db_password = config.get('Database', 'DB_PASSWORD')\n",
    "\n",
    "vrp_graph = TSPGraphCreator(db_host, db_user, db_password)\n",
    "vrp_graph.create_vrp_graph()\n",
    "vrp_graph.close()"
   ]
  },
  {
   "cell_type": "code",
   "execution_count": 4,
   "metadata": {},
   "outputs": [
    {
     "name": "stdout",
     "output_type": "stream",
     "text": [
      "(['Hub', 'Location4', 'Location1', 'Location3', 'Location2'], 0.0)\n"
     ]
    }
   ],
   "source": [
    "graph_data = get_graph_data(db_host, db_user, db_password)\n",
    "\n",
    "tsp = TSP(graph_data, 'Hub')\n",
    "simulated_annealing = SimulatedAnnealing(tsp)\n",
    "print(simulated_annealing.best_of_x(x=40, initial_temperature=2000, n=15,\n",
    "                                    cooling_factor=0.1, minimum_temperature=0.99))\n"
   ]
  },
  {
   "cell_type": "code",
   "execution_count": 48,
   "metadata": {},
   "outputs": [
    {
     "data": {
      "text/plain": [
       "[((4000, 0.1, 10), 43.0, 0.00043129920959472656),\n",
       " ((2000, 0.1, 10), 43.0, 0.0005364418029785156),\n",
       " ((1000, 0.1, 10), 43.0, 0.000705718994140625),\n",
       " ((1000, 0.3, 10), 43.0, 0.0007531642913818359),\n",
       " ((1000, 0.1, 20), 43.0, 0.0007727146148681641),\n",
       " ((4000, 0.3, 10), 43.0, 0.0010449886322021484),\n",
       " ((4000, 0.1, 20), 43.0, 0.0011055469512939453),\n",
       " ((2000, 0.3, 10), 43.0, 0.001321554183959961),\n",
       " ((2000, 0.1, 20), 43.0, 0.0015685558319091797),\n",
       " ((1000, 0.3, 20), 43.0, 0.0017044544219970703),\n",
       " ((1000, 0.1, 40), 43.0, 0.0020596981048583984),\n",
       " ((1000, 0.6, 10), 43.0, 0.002152681350708008),\n",
       " ((4000, 0.1, 40), 43.0, 0.002596139907836914),\n",
       " ((2000, 0.3, 20), 43.0, 0.0027587413787841797),\n",
       " ((4000, 0.3, 20), 43.0, 0.0028002262115478516),\n",
       " ((2000, 0.6, 10), 43.0, 0.0031507015228271484),\n",
       " ((2000, 0.1, 40), 43.0, 0.003500223159790039),\n",
       " ((4000, 0.6, 10), 43.0, 0.003753662109375),\n",
       " ((1000, 0.3, 40), 43.0, 0.00558161735534668),\n",
       " ((4000, 0.3, 40), 43.0, 0.007125139236450195),\n",
       " ((1000, 0.6, 20), 43.0, 0.007373809814453125),\n",
       " ((2000, 0.3, 40), 43.0, 0.008172988891601562),\n",
       " ((2000, 0.6, 20), 43.0, 0.009011268615722656),\n",
       " ((4000, 0.6, 20), 43.0, 0.010396957397460938),\n",
       " ((1000, 0.6, 40), 43.0, 0.027547597885131836),\n",
       " ((2000, 0.6, 40), 43.0, 0.03416776657104492),\n",
       " ((4000, 0.6, 40), 43.0, 0.03543448448181152)]"
      ]
     },
     "execution_count": 48,
     "metadata": {},
     "output_type": "execute_result"
    }
   ],
   "source": [
    "# Esto puede tomar varios minutos\n",
    "parameters = {\n",
    "        'initial_temperature': [1000, 2000, 4000],\n",
    "        'cooling_factor': [0.1, 0.3, 0.6],\n",
    "        'n': [10, 20, 40]\n",
    "    }\n",
    "\n",
    "best_results = simulated_annealing.get_best_parameters(parameters)\n",
    "best_results"
   ]
  },
  {
   "cell_type": "code",
   "execution_count": 49,
   "metadata": {},
   "outputs": [
    {
     "name": "stdout",
     "output_type": "stream",
     "text": [
      "(4000, 0.1, 10)\n"
     ]
    },
    {
     "data": {
      "image/png": "[encoded data removed]",
      "text/plain": [
       "<Figure size 640x480 with 1 Axes>"
      ]
     },
     "metadata": {},
     "output_type": "display_data"
    }
   ],
   "source": [
    "print(best_results[0][0])\n",
    "SimulatedAnnealing.plot_n_results(simulated_annealing, 50, 10, *best_results[0][0])\n"
   ]
  },
  {
   "cell_type": "code",
   "execution_count": 50,
   "metadata": {},
   "outputs": [],
   "source": [
    "df = pd.read_csv('random_distance_matrix.csv')\n",
    "df.fillna(-1, inplace=True)\n",
    "graph_creator = GraphCreator(db_host, db_user, db_password)\n",
    "graph_creator.create_graph(df)\n",
    "graph_creator.close()"
   ]
  },
  {
   "cell_type": "code",
   "execution_count": 51,
   "metadata": {},
   "outputs": [
    {
     "name": "stdout",
     "output_type": "stream",
     "text": [
      "(['l1', 'l11', 'l9', 'l7', 'l2', 'l8', 'l13', 'l14', 'l10', 'l5', 'l15', 'l6', 'l12', 'l3', 'l4'], 51.0)\n"
     ]
    }
   ],
   "source": [
    "graph_data = get_graph_data(db_host, db_user, db_password)\n",
    "\n",
    "tsp = TSP(graph_data, 'l1')\n",
    "simulated_annealing = SimulatedAnnealing(tsp)\n",
    "print(simulated_annealing.best_of_x(x=40, initial_temperature=2000, n=15,\n",
    "                                    cooling_factor=0.1, minimum_temperature=0.99))\n"
   ]
  },
  {
   "cell_type": "code",
   "execution_count": 52,
   "metadata": {},
   "outputs": [
    {
     "data": {
      "text/plain": [
       "[((2000, 0.6, 10), 55.0, 0.005888938903808594),\n",
       " ((1000, 0.3, 40), 57.0, 0.011646509170532227),\n",
       " ((4000, 0.1, 10), 59.0, 0.0013515949249267578),\n",
       " ((2000, 0.1, 10), 59.0, 0.0014264583587646484),\n",
       " ((1000, 0.1, 20), 59.0, 0.0017066001892089844),\n",
       " ((4000, 0.3, 10), 59.0, 0.0024864673614501953),\n",
       " ((2000, 0.1, 20), 59.0, 0.002881765365600586),\n",
       " ((4000, 0.1, 20), 59.0, 0.003424406051635742),\n",
       " ((1000, 0.1, 40), 59.0, 0.003859281539916992),\n",
       " ((2000, 0.3, 20), 59.0, 0.004763603210449219),\n",
       " ((1000, 0.6, 10), 59.0, 0.005354166030883789),\n",
       " ((4000, 0.3, 20), 59.0, 0.005793571472167969),\n",
       " ((4000, 0.6, 10), 59.0, 0.006594181060791016),\n",
       " ((4000, 0.1, 40), 59.0, 0.007049083709716797),\n",
       " ((1000, 0.6, 20), 59.0, 0.013808488845825195),\n",
       " ((4000, 0.3, 40), 59.0, 0.014010190963745117),\n",
       " ((2000, 0.3, 40), 59.0, 0.0143585205078125),\n",
       " ((4000, 0.6, 20), 59.0, 0.018444299697875977),\n",
       " ((1000, 0.6, 40), 59.0, 0.03974175453186035),\n",
       " ((2000, 0.6, 40), 59.0, 0.04166984558105469),\n",
       " ((4000, 0.6, 40), 59.0, 0.05385565757751465),\n",
       " ((1000, 0.3, 10), 62.0, 0.001756429672241211),\n",
       " ((2000, 0.1, 40), 62.0, 0.006951332092285156),\n",
       " ((1000, 0.1, 10), 63.0, 0.0009338855743408203),\n",
       " ((2000, 0.3, 10), 63.0, 0.0023937225341796875),\n",
       " ((1000, 0.3, 20), 63.0, 0.004222869873046875),\n",
       " ((2000, 0.6, 20), 63.0, 0.018555641174316406)]"
      ]
     },
     "execution_count": 52,
     "metadata": {},
     "output_type": "execute_result"
    }
   ],
   "source": [
    "# Esto puede tomar varios minutos\n",
    "parameters = {\n",
    "        'initial_temperature': [1000, 2000, 4000],\n",
    "        'cooling_factor': [0.1, 0.3, 0.6],\n",
    "        'n': [10, 20, 40]\n",
    "    }\n",
    "\n",
    "best_results = simulated_annealing.get_best_parameters(parameters, executions_per_combination=30)\n",
    "best_results"
   ]
  },
  {
   "cell_type": "code",
   "execution_count": 53,
   "metadata": {},
   "outputs": [
    {
     "name": "stdout",
     "output_type": "stream",
     "text": [
      "(2000, 0.6, 10)\n"
     ]
    },
    {
     "data": {
      "image/png": "[encoded data removed]",
      "text/plain": [
       "<Figure size 640x480 with 1 Axes>"
      ]
     },
     "metadata": {},
     "output_type": "display_data"
    }
   ],
   "source": [
    "print(best_results[0][0])\n",
    "simulated_annealing.plot_n_results(50, 10, *best_results[0][0])"
   ]
  },
  {
   "cell_type": "code",
   "execution_count": 54,
   "metadata": {},
   "outputs": [
    {
     "name": "stdout",
     "output_type": "stream",
     "text": [
      "Matriz de tamaño 5\n",
      "77.9 ms ± 5.14 ms per loop (mean ± std. dev. of 7 runs, 10 loops each)\n",
      "Matriz de tamaño 10\n",
      "71.1 ms ± 1.92 ms per loop (mean ± std. dev. of 7 runs, 10 loops each)\n",
      "Matriz de tamaño 20\n",
      "71.2 ms ± 1.76 ms per loop (mean ± std. dev. of 7 runs, 10 loops each)\n",
      "Matriz de tamaño 40\n",
      "70.4 ms ± 2.01 ms per loop (mean ± std. dev. of 7 runs, 10 loops each)\n",
      "Matriz de tamaño 60\n",
      "75.7 ms ± 4.76 ms per loop (mean ± std. dev. of 7 runs, 10 loops each)\n"
     ]
    }
   ],
   "source": [
    "for n in [5, 10, 20, 40, 60]:\n",
    "    generate_data(n)\n",
    "\n",
    "    # Create graph\n",
    "    df = pd.read_csv('distance_matrix.csv')\n",
    "    df.fillna(-1, inplace=True)\n",
    "    graph_creator = GraphCreator(db_host, db_user, db_password)\n",
    "    graph_creator.create_graph(df)\n",
    "    graph_creator.close()\n",
    "\n",
    "    print(f\"Matriz de tamaño {n}\")\n",
    "    %timeit simulated_annealing.best_of_x(10, 10, *best_results[0][0])\n",
    "    "
   ]
  }
 ],
 "metadata": {
  "kernelspec": {
   "display_name": ".venv",
   "language": "python",
   "name": "python3"
  },
  "language_info": {
   "codemirror_mode": {
    "name": "ipython",
    "version": 3
   },
   "file_extension": ".py",
   "mimetype": "text/x-python",
   "name": "python",
   "nbconvert_exporter": "python",
   "pygments_lexer": "ipython3",
   "version": "3.10.12"
  }
 },
 "nbformat": 4,
 "nbformat_minor": 2
}
