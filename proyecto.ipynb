{
 "cells": [
  {
   "cell_type": "markdown",
   "metadata": {},
   "source": [
    "## Demostracion del algoritmo y exploración\n",
    "### John Ureña"
   ]
  },
  {
   "cell_type": "code",
   "execution_count": 1,
   "metadata": {},
   "outputs": [],
   "source": [
    "from create_graph import TSPGraphCreator\n",
    "import configparser\n",
    "from test_solution import get_graph_data\n",
    "from TSP import TSP\n",
    "from SimulatedAnnealing import SimulatedAnnealing\n",
    "from graph_from_csv import GraphCreator\n",
    "import pandas as pd\n",
    "import constants\n",
    "from utils import SessionManager\n",
    "from GenerateData import generate_data"
   ]
  },
  {
   "cell_type": "code",
   "execution_count": 2,
   "metadata": {},
   "outputs": [],
   "source": [
    "import warnings\n",
    "warnings.filterwarnings('ignore')"
   ]
  },
  {
   "cell_type": "code",
   "execution_count": 3,
   "metadata": {},
   "outputs": [],
   "source": [
    "\n",
    "config = configparser.ConfigParser()\n",
    "config.read('config.ini')\n",
    "db_host = config.get('Database', 'DB_HOST')\n",
    "db_user = config.get('Database', 'DB_USER')\n",
    "db_password = config.get('Database', 'DB_PASSWORD')"
   ]
  },
  {
   "cell_type": "code",
   "execution_count": 4,
   "metadata": {},
   "outputs": [],
   "source": [
    "vrp_graph = TSPGraphCreator(db_host, db_user, db_password)\n",
    "vrp_graph.create_vrp_graph()\n",
    "vrp_graph.close()"
   ]
  },
  {
   "cell_type": "code",
   "execution_count": 5,
   "metadata": {},
   "outputs": [],
   "source": [
    "driver = SessionManager()\n",
    "queries = constants.queries_dict\n",
    "def get_data():\n",
    "    pagerank = driver.bring_data(queries['page_rank'])\n",
    "    degree = driver.bring_data(queries['degree'])\n",
    "    closeness = driver.bring_data(queries['closeness'])\n",
    "    clustering = driver.bring_data(queries['clustering'])\n",
    "    data = pd.merge(pagerank, degree, on='name')\n",
    "    data = pd.merge(data, closeness, on='name')\n",
    "    data = pd.merge(data, clustering, on='name')\n",
    "    return data"
   ]
  },
  {
   "cell_type": "code",
   "execution_count": 8,
   "metadata": {},
   "outputs": [
    {
     "name": "stdout",
     "output_type": "stream",
     "text": [
      "(['Hub', 'Location1', 'Location2', 'Location4', 'Location3', 'Location1'], 43.0)\n"
     ]
    }
   ],
   "source": [
    "graph_data = get_graph_data(db_host, db_user, db_password)\n",
    "data = get_data()\n",
    "tsp = TSP(graph_data, 'Hub', data)\n",
    "simulated_annealing = SimulatedAnnealing(tsp)\n",
    "print(simulated_annealing.best_of_x(x=40, initial_temperature=2000, n=1,\n",
    "                                    cooling_factor=0.1, minimum_temperature=0.99))\n",
    "\n"
   ]
  },
  {
   "cell_type": "code",
   "execution_count": 11,
   "metadata": {},
   "outputs": [
    {
     "data": {
      "text/plain": [
       "[((1000, 0.1, 5), 43.0, 0.028009414672851562),\n",
       " ((500, 0.3, 5), 43.0, 0.049973249435424805),\n",
       " ((500, 0.1, 10), 43.0, 0.05115365982055664),\n",
       " ((500, 0.3, 10), 43.0, 0.10167837142944336),\n",
       " ((1000, 0.3, 10), 43.0, 0.10320305824279785),\n",
       " ((800, 0.9, 1), 43.0, 0.10909533500671387),\n",
       " ((500, 0.9, 5), 43.0, 0.5041565895080566),\n",
       " ((800, 0.9, 5), 43.0, 0.5445098876953125),\n",
       " ((1000, 0.9, 5), 43.0, 0.5543661117553711),\n",
       " ((500, 0.9, 10), 43.0, 0.9638118743896484),\n",
       " ((800, 0.9, 10), 43.0, 1.087364912033081),\n",
       " ((1000, 0.9, 10), 43.0, 1.133007526397705),\n",
       " ((800, 0.1, 5), 45.0, 0.025488615036010742),\n",
       " ((1000, 0.3, 5), 45.0, 0.04960012435913086),\n",
       " ((800, 0.1, 10), 45.0, 0.051605939865112305),\n",
       " ((800, 0.3, 10), 45.0, 0.1027989387512207),\n",
       " ((1000, 0.1, 1), 46.0, 0.010038375854492188),\n",
       " ((800, 0.1, 1), 46.0, 0.010279178619384766),\n",
       " ((500, 0.1, 1), 46.0, 0.023885250091552734),\n",
       " ((800, 0.3, 5), 46.0, 0.05204939842224121),\n",
       " ((1000, 0.9, 1), 46.0, 0.11046552658081055),\n",
       " ((500, 0.9, 1), 46.0, 0.13471627235412598),\n",
       " ((500, 0.3, 1), 49.00000000000001, 0.010668754577636719),\n",
       " ((1000, 0.1, 10), 49.00000000000001, 0.054906368255615234),\n",
       " ((500, 0.1, 5), 52.0, 0.035037994384765625),\n",
       " ((1000, 0.3, 1), 55.0, 0.009149551391601562),\n",
       " ((800, 0.3, 1), 55.0, 0.011205434799194336)]"
      ]
     },
     "execution_count": 11,
     "metadata": {},
     "output_type": "execute_result"
    }
   ],
   "source": [
    "# Esto puede tomar varios minutos\n",
    "parameters = {\n",
    "        'initial_temperature': [500, 800, 1000],\n",
    "        'cooling_factor': [0.1, 0.3, 0.9],\n",
    "        'n': [1, 5, 10]\n",
    "    }\n",
    "\n",
    "best_results = simulated_annealing.get_best_parameters(parameters, executions_per_combination=3, multipl=1.5)\n",
    "best_results"
   ]
  },
  {
   "cell_type": "code",
   "execution_count": 15,
   "metadata": {},
   "outputs": [
    {
     "name": "stdout",
     "output_type": "stream",
     "text": [
      "(1000, 0.1, 5)\n"
     ]
    },
    {
     "data": {
      "image/png": "[encoded data removed]",
      "text/plain": [
       "<Figure size 640x480 with 1 Axes>"
      ]
     },
     "metadata": {},
     "output_type": "display_data"
    }
   ],
   "source": [
    "print(best_results[0][0])\n",
    "simulated_annealing.plot_n_results(5, 10, *best_results[0][0])\n"
   ]
  },
  {
   "cell_type": "code",
   "execution_count": 16,
   "metadata": {},
   "outputs": [],
   "source": [
    "df = pd.read_csv('random_distance_matrix.csv')\n",
    "df.fillna(-1, inplace=True)\n",
    "graph_creator = GraphCreator(db_host, db_user, db_password)\n",
    "graph_creator.create_graph(df)\n",
    "graph_creator.close()"
   ]
  },
  {
   "cell_type": "code",
   "execution_count": 17,
   "metadata": {},
   "outputs": [
    {
     "name": "stdout",
     "output_type": "stream",
     "text": [
      "(['l1', 'l13', 'l6', 'l8', 'l9', 'l4', 'l10', 'l1', 'l5', 'l2', 'l7', 'l14', 'l3', 'l15', 'l12', 'l11'], 69.0)\n"
     ]
    }
   ],
   "source": [
    "graph_data = get_graph_data(db_host, db_user, db_password)\n",
    "data = get_data()\n",
    "tsp = TSP(graph_data, 'l1',data)\n",
    "simulated_annealing = SimulatedAnnealing(tsp)\n",
    "print(simulated_annealing.best_of_x(x=10, initial_temperature=2000, n=8,\n",
    "                                    cooling_factor=0.4, minimum_temperature=0.99))\n"
   ]
  },
  {
   "cell_type": "code",
   "execution_count": 18,
   "metadata": {},
   "outputs": [
    {
     "data": {
      "text/plain": [
       "[((1000, 0.9, 5), 64.0, 0.5970525741577148),\n",
       " ((1000, 0.4, 5), 71.0, 0.07841062545776367),\n",
       " ((1000, 0.7, 5), 71.0, 0.17470192909240723),\n",
       " ((500, 0.9, 15), 71.0, 1.5822312831878662),\n",
       " ((1000, 0.9, 10), 72.0, 1.147357702255249),\n",
       " ((2000, 0.7, 10), 76.0, 0.45505523681640625),\n",
       " ((500, 0.7, 10), 77.0, 0.3095715045928955),\n",
       " ((2000, 0.7, 15), 77.0, 0.5874862670898438),\n",
       " ((2000, 0.9, 15), 78.0, 2.0216920375823975),\n",
       " ((500, 0.4, 5), 80.0, 0.11942887306213379),\n",
       " ((1000, 0.9, 15), 81.0, 1.6534440517425537),\n",
       " ((2000, 0.4, 5), 83.0, 0.09280967712402344),\n",
       " ((500, 0.7, 15), 83.0, 0.4640936851501465),\n",
       " ((2000, 0.9, 10), 84.0, 1.4106066226959229),\n",
       " ((500, 0.9, 10), 85.0, 1.0582351684570312),\n",
       " ((2000, 0.4, 15), 86.0, 0.3134331703186035),\n",
       " ((1000, 0.7, 10), 86.0, 0.44121861457824707),\n",
       " ((2000, 0.9, 5), 88.0, 0.8524906635284424),\n",
       " ((500, 0.4, 10), 89.0, 0.13100552558898926),\n",
       " ((500, 0.4, 15), 89.0, 0.19015812873840332),\n",
       " ((500, 0.9, 5), 89.0, 0.5141973495483398),\n",
       " ((2000, 0.7, 5), 96.0, 0.2404773235321045),\n",
       " ((1000, 0.7, 15), 98.99999999999999, 0.57749342918396),\n",
       " ((500, 0.7, 5), 100.0, 0.1656508445739746),\n",
       " ((2000, 0.4, 10), 104.99999999999999, 0.1552903652191162),\n",
       " ((1000, 0.4, 10), 107.00000000000001, 0.15447998046875),\n",
       " ((1000, 0.4, 15), 108.0, 0.24326610565185547)]"
      ]
     },
     "execution_count": 18,
     "metadata": {},
     "output_type": "execute_result"
    }
   ],
   "source": [
    "# Esto puede tomar varios minutos\n",
    "parameters = {\n",
    "        'initial_temperature': [500, 1000, 2000],\n",
    "        'cooling_factor': [0.4, 0.7, 0.9],\n",
    "        'n': [5, 10, 15]\n",
    "    }\n",
    "\n",
    "best_results = simulated_annealing.get_best_parameters(parameters, executions_per_combination=3)\n",
    "best_results"
   ]
  },
  {
   "cell_type": "code",
   "execution_count": 21,
   "metadata": {},
   "outputs": [
    {
     "name": "stdout",
     "output_type": "stream",
     "text": [
      "(1000, 0.9, 5)\n"
     ]
    },
    {
     "data": {
      "image/png": "[encoded data removed]",
      "text/plain": [
       "<Figure size 640x480 with 1 Axes>"
      ]
     },
     "metadata": {},
     "output_type": "display_data"
    }
   ],
   "source": [
    "print(best_results[0][0])\n",
    "simulated_annealing.plot_n_results(5, 10, *best_results[0][0])"
   ]
  },
  {
   "cell_type": "code",
   "execution_count": 20,
   "metadata": {},
   "outputs": [
    {
     "name": "stdout",
     "output_type": "stream",
     "text": [
      "Matriz de tamaño 5\n",
      "5.98 s ± 147 ms per loop (mean ± std. dev. of 7 runs, 1 loop each)\n",
      "Matriz de tamaño 10\n",
      "6.17 s ± 371 ms per loop (mean ± std. dev. of 7 runs, 1 loop each)\n",
      "Matriz de tamaño 20\n",
      "6.63 s ± 481 ms per loop (mean ± std. dev. of 7 runs, 1 loop each)\n",
      "Matriz de tamaño 40\n",
      "6.35 s ± 249 ms per loop (mean ± std. dev. of 7 runs, 1 loop each)\n",
      "Matriz de tamaño 60\n",
      "6.54 s ± 389 ms per loop (mean ± std. dev. of 7 runs, 1 loop each)\n"
     ]
    }
   ],
   "source": [
    "# Esto puede tomar varios minutos\n",
    "for n in [5, 10, 20, 40, 60]:\n",
    "    generate_data(n)\n",
    "\n",
    "    # Create graph\n",
    "    df = pd.read_csv('distance_matrix.csv')\n",
    "    df.fillna(-1, inplace=True)\n",
    "    graph_creator = GraphCreator(db_host, db_user, db_password)\n",
    "    graph_creator.create_graph(df)\n",
    "    graph_creator.close()\n",
    "\n",
    "    print(f\"Matriz de tamaño {n}\")\n",
    "    # Esto esta probando con los mejores parametros para la matriz de random_distance_matrix.csv\n",
    "    %timeit simulated_annealing.best_of_x(10, 10, *best_results[0][0])\n",
    "    "
   ]
  }
 ],
 "metadata": {
  "kernelspec": {
   "display_name": ".venv",
   "language": "python",
   "name": "python3"
  },
  "language_info": {
   "codemirror_mode": {
    "name": "ipython",
    "version": 3
   },
   "file_extension": ".py",
   "mimetype": "text/x-python",
   "name": "python",
   "nbconvert_exporter": "python",
   "pygments_lexer": "ipython3",
   "version": "3.10.12"
  }
 },
 "nbformat": 4,
 "nbformat_minor": 2
}
