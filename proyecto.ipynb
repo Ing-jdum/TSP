{
 "cells": [
  {
   "cell_type": "code",
   "execution_count": 1,
   "metadata": {},
   "outputs": [],
   "source": [
    "from create_graph import TSPGraphCreator\n",
    "import configparser\n",
    "from test_solution import get_graph_data\n",
    "from TSP import TSP\n",
    "from SimulatedAnnealing import SimulatedAnnealing\n",
    "from graph_from_csv import GraphCreator\n",
    "import pandas as pd\n",
    "import constants\n",
    "from utils import SessionManager\n",
    "from GenerateData import generate_data"
   ]
  },
  {
   "cell_type": "code",
   "execution_count": 2,
   "metadata": {},
   "outputs": [],
   "source": [
    "import warnings\n",
    "warnings.filterwarnings('ignore')"
   ]
  },
  {
   "cell_type": "code",
   "execution_count": 4,
   "metadata": {},
   "outputs": [],
   "source": [
    "\n",
    "config = configparser.ConfigParser()\n",
    "config.read('config.ini')\n",
    "db_host = config.get('Database', 'DB_HOST')\n",
    "db_user = config.get('Database', 'DB_USER')\n",
    "db_password = config.get('Database', 'DB_PASSWORD')"
   ]
  },
  {
   "cell_type": "code",
   "execution_count": null,
   "metadata": {},
   "outputs": [],
   "source": [
    "vrp_graph = TSPGraphCreator(db_host, db_user, db_password)\n",
    "vrp_graph.create_vrp_graph()\n",
    "vrp_graph.close()"
   ]
  },
  {
   "cell_type": "code",
   "execution_count": 7,
   "metadata": {},
   "outputs": [],
   "source": [
    "driver = SessionManager()\n",
    "queries = constants.queries_dict\n",
    "def get_data():\n",
    "    pagerank = driver.bring_data(queries['page_rank'])\n",
    "    degree = driver.bring_data(queries['degree'])\n",
    "    closeness = driver.bring_data(queries['closeness'])\n",
    "    clustering = driver.bring_data(queries['clustering'])\n",
    "    data = pd.merge(pagerank, degree, on='name')\n",
    "    data = pd.merge(data, closeness, on='name')\n",
    "    data = pd.merge(data, clustering, on='name')\n",
    "    return data"
   ]
  },
  {
   "cell_type": "code",
   "execution_count": 5,
   "metadata": {},
   "outputs": [
    {
     "name": "stdout",
     "output_type": "stream",
     "text": [
      "(['Hub', 'Location1', 'Location3', 'Location4', 'Location2'], 43.0)\n"
     ]
    }
   ],
   "source": [
    "graph_data = get_graph_data(db_host, db_user, db_password)\n",
    "data = get_data()\n",
    "tsp = TSP(graph_data, 'Hub', data)\n",
    "simulated_annealing = SimulatedAnnealing(tsp)\n",
    "print(simulated_annealing.best_of_x(x=40, initial_temperature=2000, n=15,\n",
    "                                    cooling_factor=0.1, minimum_temperature=0.99))\n",
    "\n"
   ]
  },
  {
   "cell_type": "code",
   "execution_count": 7,
   "metadata": {},
   "outputs": [
    {
     "data": {
      "text/plain": [
       "[((1000, 0.3, 10), 43.0, 0.09949159622192383),\n",
       " ((500, 0.1, 20), 43.0, 0.11476826667785645),\n",
       " ((500, 0.6, 10), 43.0, 0.19868683815002441),\n",
       " ((800, 0.3, 20), 43.0, 0.2130289077758789),\n",
       " ((500, 0.6, 20), 43.0, 0.4063112735748291),\n",
       " ((500, 0.3, 40), 43.0, 0.4108409881591797),\n",
       " ((800, 0.3, 40), 43.0, 0.4186732769012451),\n",
       " ((800, 0.6, 20), 43.0, 0.4485459327697754),\n",
       " ((1000, 0.3, 40), 43.0, 0.4675018787384033),\n",
       " ((1000, 0.6, 20), 43.0, 0.6177656650543213),\n",
       " ((500, 0.6, 40), 43.0, 0.8451263904571533),\n",
       " ((800, 0.6, 40), 43.0, 0.8927006721496582),\n",
       " ((1000, 0.6, 40), 43.0, 1.1385045051574707),\n",
       " ((500, 0.3, 10), 45.0, 0.10075664520263672),\n",
       " ((800, 0.3, 10), 45.0, 0.10254669189453125),\n",
       " ((800, 0.1, 20), 45.0, 0.10437822341918945),\n",
       " ((500, 0.3, 20), 45.0, 0.20189976692199707),\n",
       " ((1000, 0.1, 40), 45.0, 0.2087702751159668),\n",
       " ((800, 0.1, 40), 45.0, 0.21448707580566406),\n",
       " ((800, 0.6, 10), 45.0, 0.24073123931884766),\n",
       " ((1000, 0.6, 10), 45.0, 0.36121511459350586),\n",
       " ((1000, 0.1, 10), 46.0, 0.05013298988342285),\n",
       " ((800, 0.1, 10), 46.0, 0.054318904876708984),\n",
       " ((1000, 0.1, 20), 46.0, 0.10091209411621094),\n",
       " ((500, 0.1, 40), 46.0, 0.20222783088684082),\n",
       " ((1000, 0.3, 20), 46.0, 0.21553754806518555),\n",
       " ((500, 0.1, 10), 50.0, 0.08783769607543945)]"
      ]
     },
     "execution_count": 7,
     "metadata": {},
     "output_type": "execute_result"
    }
   ],
   "source": [
    "# Esto puede tomar varios minutos\n",
    "parameters = {\n",
    "        'initial_temperature': [500, 800, 1000],\n",
    "        'cooling_factor': [0.1, 0.3, 0.6],\n",
    "        'n': [10, 20, 40]\n",
    "    }\n",
    "\n",
    "best_results = simulated_annealing.get_best_parameters(parameters, executions_per_combination=3, multipl=1.5)\n",
    "best_results"
   ]
  },
  {
   "cell_type": "code",
   "execution_count": 8,
   "metadata": {},
   "outputs": [
    {
     "name": "stdout",
     "output_type": "stream",
     "text": [
      "(1000, 0.3, 10)\n"
     ]
    },
    {
     "data": {
      "image/png": "[encoded data removed]",
      "text/plain": [
       "<Figure size 640x480 with 1 Axes>"
      ]
     },
     "metadata": {},
     "output_type": "display_data"
    }
   ],
   "source": [
    "print(best_results[0][0])\n",
    "simulated_annealing.plot_n_results(5, 10, *best_results[0][0])\n"
   ]
  },
  {
   "cell_type": "code",
   "execution_count": 5,
   "metadata": {},
   "outputs": [],
   "source": [
    "df = pd.read_csv('random_distance_matrix.csv')\n",
    "df.fillna(-1, inplace=True)\n",
    "graph_creator = GraphCreator(db_host, db_user, db_password)\n",
    "graph_creator.create_graph(df)\n",
    "graph_creator.close()"
   ]
  },
  {
   "cell_type": "code",
   "execution_count": 8,
   "metadata": {},
   "outputs": [
    {
     "name": "stdout",
     "output_type": "stream",
     "text": [
      "(['l1', 'l9', 'l8', 'l10', 'l1', 'l2', 'l4', 'l5', 'l7', 'l14', 'l6', 'l13', 'l4', 'l3', 'l12', 'l11', 'l4', 'l15'], 77.0)\n"
     ]
    }
   ],
   "source": [
    "graph_data = get_graph_data(db_host, db_user, db_password)\n",
    "data = get_data()\n",
    "tsp = TSP(graph_data, 'l1',data)\n",
    "simulated_annealing = SimulatedAnnealing(tsp)\n",
    "print(simulated_annealing.best_of_x(x=10, initial_temperature=2000, n=8,\n",
    "                                    cooling_factor=0.4, minimum_temperature=0.99))\n"
   ]
  },
  {
   "cell_type": "code",
   "execution_count": 9,
   "metadata": {},
   "outputs": [
    {
     "data": {
      "text/plain": [
       "[((2000, 0.9, 10), 65.0, 1.3069005012512207),\n",
       " ((4000, 0.9, 15), 74.0, 2.343644618988037),\n",
       " ((4000, 0.7, 5), 77.0, 0.2135920524597168),\n",
       " ((4000, 0.7, 15), 77.0, 0.6595995426177979),\n",
       " ((2000, 0.9, 15), 78.0, 1.9969098567962646),\n",
       " ((4000, 0.9, 5), 79.0, 0.7168149948120117),\n",
       " ((1000, 0.9, 5), 80.0, 0.5781023502349854),\n",
       " ((1000, 0.9, 10), 80.0, 1.164757490158081),\n",
       " ((4000, 0.9, 10), 80.0, 1.5022187232971191),\n",
       " ((1000, 0.7, 15), 83.0, 0.4930546283721924),\n",
       " ((1000, 0.4, 15), 84.0, 0.23458242416381836),\n",
       " ((2000, 0.7, 15), 84.0, 0.6001152992248535),\n",
       " ((1000, 0.9, 15), 84.0, 1.732882022857666),\n",
       " ((4000, 0.7, 10), 85.0, 0.4234652519226074),\n",
       " ((2000, 0.7, 5), 86.0, 0.19442486763000488),\n",
       " ((2000, 0.9, 5), 88.0, 0.674483060836792),\n",
       " ((4000, 0.4, 10), 89.0, 0.17836618423461914),\n",
       " ((4000, 0.4, 5), 90.0, 0.09032988548278809),\n",
       " ((2000, 0.4, 15), 94.0, 0.23521828651428223),\n",
       " ((1000, 0.7, 10), 96.0, 0.33730602264404297),\n",
       " ((2000, 0.7, 10), 96.0, 0.43814587593078613),\n",
       " ((4000, 0.4, 15), 97.0, 0.2697420120239258),\n",
       " ((1000, 0.4, 10), 98.99999999999999, 0.1533370018005371),\n",
       " ((2000, 0.4, 5), 101.0, 0.07932186126708984),\n",
       " ((2000, 0.4, 10), 107.00000000000001, 0.16022062301635742),\n",
       " ((1000, 0.7, 5), 116.0, 0.17571210861206055),\n",
       " ((1000, 0.4, 5), 127.0, 0.10374307632446289)]"
      ]
     },
     "execution_count": 9,
     "metadata": {},
     "output_type": "execute_result"
    }
   ],
   "source": [
    "# Esto puede tomar varios minutos\n",
    "parameters = {\n",
    "        'initial_temperature': [1000, 2000, 4000],\n",
    "        'cooling_factor': [0.4, 0.7, 0.9],\n",
    "        'n': [5, 10, 15]\n",
    "    }\n",
    "\n",
    "best_results = simulated_annealing.get_best_parameters(parameters, executions_per_combination=3)\n",
    "best_results"
   ]
  },
  {
   "cell_type": "code",
   "execution_count": 10,
   "metadata": {},
   "outputs": [
    {
     "name": "stdout",
     "output_type": "stream",
     "text": [
      "(2000, 0.9, 10)\n"
     ]
    },
    {
     "data": {
      "image/png": "[encoded data removed]",
      "text/plain": [
       "<Figure size 640x480 with 1 Axes>"
      ]
     },
     "metadata": {},
     "output_type": "display_data"
    }
   ],
   "source": [
    "print(best_results[0][0])\n",
    "simulated_annealing.plot_n_results(5, 10, *best_results[0][0])"
   ]
  },
  {
   "cell_type": "code",
   "execution_count": 11,
   "metadata": {},
   "outputs": [
    {
     "name": "stdout",
     "output_type": "stream",
     "text": [
      "Matriz de tamaño 5\n",
      "13.4 s ± 189 ms per loop (mean ± std. dev. of 7 runs, 1 loop each)\n",
      "Matriz de tamaño 10\n",
      "13.4 s ± 110 ms per loop (mean ± std. dev. of 7 runs, 1 loop each)\n",
      "Matriz de tamaño 20\n",
      "13.6 s ± 294 ms per loop (mean ± std. dev. of 7 runs, 1 loop each)\n",
      "Matriz de tamaño 40\n",
      "13.3 s ± 667 ms per loop (mean ± std. dev. of 7 runs, 1 loop each)\n",
      "Matriz de tamaño 60\n",
      "13.7 s ± 279 ms per loop (mean ± std. dev. of 7 runs, 1 loop each)\n"
     ]
    }
   ],
   "source": [
    "for n in [5, 10, 20, 40, 60]:\n",
    "    generate_data(n)\n",
    "\n",
    "    # Create graph\n",
    "    df = pd.read_csv('distance_matrix.csv')\n",
    "    df.fillna(-1, inplace=True)\n",
    "    graph_creator = GraphCreator(db_host, db_user, db_password)\n",
    "    graph_creator.create_graph(df)\n",
    "    graph_creator.close()\n",
    "\n",
    "    print(f\"Matriz de tamaño {n}\")\n",
    "    %timeit simulated_annealing.best_of_x(10, 10, *best_results[0][0])\n",
    "    "
   ]
  }
 ],
 "metadata": {
  "kernelspec": {
   "display_name": ".venv",
   "language": "python",
   "name": "python3"
  },
  "language_info": {
   "codemirror_mode": {
    "name": "ipython",
    "version": 3
   },
   "file_extension": ".py",
   "mimetype": "text/x-python",
   "name": "python",
   "nbconvert_exporter": "python",
   "pygments_lexer": "ipython3",
   "version": "3.10.12"
  }
 },
 "nbformat": 4,
 "nbformat_minor": 2
}
